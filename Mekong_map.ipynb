{
 "cells": [
  {
   "cell_type": "markdown",
   "source": [
    "# ENVIRONMENT AND WATER IN THE LOWER MEKONG BASIN\r\n",
    "\r\n",
    "\r\n",
    "## Table of contents\r\n",
    "1. [Mekong Basins](#1)<br>\r\n",
    "    1.1 [Hydro basin level 3](#11)<br>\r\n",
    "    1.2 [Freshwater Ecoregions](#12)<br>\r\n",
    "2. [Mekong Infrastructure Tracker](#2)<br>\r\n",
    "    2.1 [Data](#21)<br>\r\n",
    "    2.2 [Plotting interative energy map](#22)<br>\r\n",
    "\r\n",
    "5. [References](#5)<br>"
   ],
   "metadata": {}
  },
  {
   "cell_type": "code",
   "execution_count": 3,
   "source": [
    "import json\r\n",
    "import pandas as pd\r\n",
    "import numpy as np\r\n",
    "import plotly.express as px\r\n",
    "import geopandas as gpd\r\n",
    "import shapely.geometry\r\n",
    "\r\n",
    "# Plot in browser (recommended)\r\n",
    "import plotly.io as pio\r\n",
    "pio.renderers.default = 'browser'\r\n",
    "pd.options.mode.chained_assignment = None\r\n",
    "\r\n",
    "from codes.auxiliary import convert_id_map"
   ],
   "outputs": [],
   "metadata": {}
  },
  {
   "cell_type": "markdown",
   "source": [
    "## 1. Mekong basins <a id=\"1\"></a>\r\n",
    "\r\n",
    "### 1.1 Hydro basin level 3 <a id=\"1.1\"></a>\r\n",
    "\r\n",
    "This dataset was obtained by delineating drainage basin boundaries from hydrologically corrected elevation data (HydroSHEDS and Hydro1K). Input data resolution is 15 arc-seconds between 60 N and 60 S latitude (based on SRTM), and 30 arc-seconds for higher latitudes (based on GTOPO30). The dataset consists of the following information: numerical code (MAJ_BAS), name (MAJ_NAME) and area (MAJ_AREA) of the major basin in square km."
   ],
   "metadata": {}
  },
  {
   "cell_type": "code",
   "execution_count": 2,
   "source": [
    "# Import geodata\r\n",
    "hydrobasin_geo = json.load(open(\"mekong/hydrobasin_l3_mekong.geojson\", \"r\", encoding='utf8'))\r\n",
    "hydrobasin_df = pd.read_csv('mekong/hydrobasin_l3_mekong.csv')\r\n",
    "hydrobasin_df[\"AREA_SCALE\"] = np.log2(hydrobasin_df['MAJ_AREA'])\r\n",
    "\r\n",
    "# # Convert map properties\r\n",
    "region_id_map = convert_id_map(hydrobasin_geo, 'MAJ_NAME', 'id')\r\n",
    "\r\n",
    "#Plotting\r\n",
    "fig = px.choropleth_mapbox(\r\n",
    "    hydrobasin_df,\r\n",
    "    locations = 'id',\r\n",
    "    geojson = hydrobasin_geo,\r\n",
    "    color = 'AREA_SCALE',\r\n",
    "    color_continuous_scale=\"bluyl\",\r\n",
    "    range_color=(17, 20),\r\n",
    "    hover_name = \"MAJ_NAME\",\r\n",
    "    hover_data = ['SUB_AREA'],\r\n",
    "    mapbox_style=\"carto-positron\",\r\n",
    "    center={\"lat\": 18,\"lon\": 106},\r\n",
    "    zoom = 3.5,\r\n",
    "    title = \"Hydro basins level 3 Mekong\",\r\n",
    "    )\r\n",
    "fig.update_geos(fitbounds = \"locations\", visible=False)\r\n",
    "fig.show()"
   ],
   "outputs": [],
   "metadata": {}
  },
  {
   "cell_type": "markdown",
   "source": [
    "<img src=\"figures/hydro_basin3_mekong.png\" style=\"width:900px;\"/>"
   ],
   "metadata": {}
  },
  {
   "cell_type": "markdown",
   "source": [
    "### 1.2 Freshwater Ecoregions  <a id=\"1.2\"></a>\r\n",
    "\r\n",
    "This dataset was created from Hydrosheds level 3 dataset to represent approximate freshwater ecoregions of the Mekong basin. Based upon the WWF freshwater ecoregions dataset which is defined as, a large area encompassing one or more freshwater systems that contains a distinct assemblage of natural freshwater communities and species. The freshwater species, dynamics, and environmental conditions within a given ecoregion are more similar to each other than to those of surrounding ecoregions and together form a conservation unit."
   ],
   "metadata": {}
  },
  {
   "cell_type": "code",
   "execution_count": 2,
   "source": [
    "# Import data\r\n",
    "mekongFreshwater = json.load(open(\"mekong/mekongfwecoregionshydroshed.geojson\", \"r\"))\r\n",
    "Freshwater_df = pd.read_csv('mekong/mekongfwecoregionshydroshed.csv')\r\n",
    "Freshwater_df['logarea'] = np.log2(Freshwater_df['sub_area'])\r\n",
    "\r\n",
    "#Plotting\r\n",
    "fig = px.choropleth_mapbox(\r\n",
    "    Freshwater_df,\r\n",
    "    geojson = mekongFreshwater,\r\n",
    "    locations = 'id',\r\n",
    "    featureidkey=\"properties.id\",\r\n",
    "    color = 'logarea',\r\n",
    "    color_continuous_scale = \"bluyl\",\r\n",
    "    hover_name = \"sub_name\",\r\n",
    "    # hover_data = ['sub_area'],\r\n",
    "    mapbox_style = \"carto-positron\",\r\n",
    "    center = {\"lat\": 18,\"lon\": 106},\r\n",
    "    zoom = 3.5,\r\n",
    "    title = \"Freshwater Ecoregions of the Mekong Basin\"\r\n",
    "    )\r\n",
    "fig.update_geos(fitbounds = \"locations\", visible=False)\r\n",
    "fig.show()"
   ],
   "outputs": [],
   "metadata": {}
  },
  {
   "cell_type": "markdown",
   "source": [
    "<img src=\"figures/freshwater_mekongbasin.png\" style=\"width:900px;\"/>"
   ],
   "metadata": {}
  },
  {
   "cell_type": "markdown",
   "source": [
    "### Laos River"
   ],
   "metadata": {}
  },
  {
   "cell_type": "code",
   "execution_count": 2,
   "source": [
    "# open a zipped shapefile with the zip:// pseudo-protocol\r\n",
    "laorivers_df = gpd.read_file(\"mekong/laorivers.zip\")\r\n",
    "\r\n",
    "lats = []\r\n",
    "lons = []\r\n",
    "names = []\r\n",
    "\r\n",
    "for feature, name in zip(laorivers_df.geometry, laorivers_df.Sub_Name):\r\n",
    "    if isinstance(feature, shapely.geometry.linestring.LineString):\r\n",
    "        linestrings = [feature]\r\n",
    "    elif isinstance(feature, shapely.geometry.multilinestring.MultiLineString):\r\n",
    "        linestrings = feature.geoms\r\n",
    "    else:\r\n",
    "        continue\r\n",
    "    for linestring in linestrings:\r\n",
    "        x, y = linestring.xy\r\n",
    "        lats = np.append(lats, y)\r\n",
    "        lons = np.append(lons, x)\r\n",
    "        names = np.append(names, [name]*len(y))\r\n",
    "        lats = np.append(lats, None)\r\n",
    "        lons = np.append(lons, None)\r\n",
    "        names = np.append(names, None)\r\n",
    "\r\n",
    "fig = px.line_mapbox(lat=lats, lon=lons, hover_name=names,\r\n",
    "                     mapbox_style=\"stamen-terrain\", zoom=4.5, center={\"lat\": 16, \"lon\": 106})\r\n",
    "\r\n",
    "fig.show()"
   ],
   "outputs": [],
   "metadata": {}
  },
  {
   "cell_type": "markdown",
   "source": [
    "<img src=\"figures/Lao_river.png\" style=\"width:900px;\"/>"
   ],
   "metadata": {}
  },
  {
   "cell_type": "markdown",
   "source": [
    "***\r\n",
    "\r\n",
    "## 2 Mekong Infrastructure Tracker <a id=\"1\"></a>\r\n",
    "\r\n",
    "### 2.1 Data <a id=\"11\"></a>"
   ],
   "metadata": {}
  },
  {
   "cell_type": "code",
   "execution_count": 4,
   "source": [
    "# Import geodata\r\n",
    "mekonginfra_geo = json.load(open(\"mekong/mekong_infrastructure_tracker.geojson\", \"r\", encoding='utf8'))\r\n",
    "mekonginfra_df = pd.read_csv('mekong/mekong_infrastructure.csv')\r\n",
    "\r\n",
    "#Edit data\r\n",
    "mek_df = mekonginfra_df[['Project Name','Subtype','Year of Completion','Capacity (MW)','Latitude','Longitude']]\r\n",
    "mek_df['text'] = mek_df['Project Name'] + '<br> Capacity ' + (mek_df['Capacity (MW)']).astype(str)+'W'\r\n",
    "mek_df['Capacity'] = mek_df['Capacity (MW)'].fillna(0)"
   ],
   "outputs": [],
   "metadata": {}
  },
  {
   "cell_type": "markdown",
   "source": [
    "### 2.2 Plotting interative energy map <a id=\"22\"></a>\r\n",
    "\r\n",
    "Bubble Map with go.Scattergeo\r\n",
    "\r\n",
    "See https://plotly.com/python/reference/scatter/#scatter-marker-sizeref for more information.\r\n",
    "\r\n",
    "Additionally, recommend setting the sizemode attribute: https://plotly.com/python/reference/scatter/#scatter-marker-sizemode to area."
   ],
   "metadata": {}
  },
  {
   "cell_type": "code",
   "execution_count": 5,
   "source": [
    "import plotly.graph_objects as go\r\n",
    "\r\n",
    "categories = ['Oil', 'Hydro', 'Waste', 'Coal', 'Biomass', 'Solar', 'Wind', 'Gas', 'Geothermal', 'Mixed Fossil Fuel'] # Order\r\n",
    "colors = [\"royalblue\",\"crimson\",\"lightseagreen\",\"orange\",\"lightgrey\",'purple','yellow','brown','darkgreen','black']\r\n",
    "scale = 50\r\n",
    "\r\n",
    "fig = go.Figure()\r\n",
    "\r\n",
    "for i, cat in enumerate(categories):\r\n",
    "    mek_sub = mek_df[mek_df['Subtype']==cat]\r\n",
    "    fig.add_trace(go.Scattergeo(\r\n",
    "        locationmode = 'geojson-id',\r\n",
    "        lon = mek_sub['Longitude'],\r\n",
    "        lat = mek_sub['Latitude'],\r\n",
    "        text = mek_sub['text'],\r\n",
    "        marker = dict(\r\n",
    "         size = mek_sub['Capacity']/scale,\r\n",
    "            color = colors[i],\r\n",
    "            line_color='rgb(40,40,40)',\r\n",
    "            line_width= 0.3,\r\n",
    "            sizemode = 'area'\r\n",
    "        ),\r\n",
    "        name = '{}'.format(cat)\r\n",
    "    )\r\n",
    "    )\r\n",
    "fig.update_layout(\r\n",
    "        title_text = '2020 Mekong Infrastructure Tracker <br>(Click legend to toggle traces)',\r\n",
    "        showlegend = True,\r\n",
    "        autosize = False,\r\n",
    "        width = 1000,  #size of figure\r\n",
    "        height = 850,\r\n",
    "        geo = go.layout.Geo(\r\n",
    "        resolution = 50,\r\n",
    "        scope = 'asia',\r\n",
    "        showframe = False,\r\n",
    "        showcoastlines = True,\r\n",
    "        lonaxis_range = [ 90.0, 112.0 ], # cut of asia map\r\n",
    "        lataxis_range = [ 5.0, 35.0 ],\r\n",
    "        landcolor = \"rgb(229, 229, 229)\",\r\n",
    "        countrycolor = \"white\" ,\r\n",
    "        coastlinecolor = \"white\",\r\n",
    "        projection_type = 'mercator',\r\n",
    "        domain = dict(x = [ 0, 1.0 ], y = [ 0, 1.0 ])\r\n",
    "    )\r\n",
    ")\r\n",
    "fig.show()"
   ],
   "outputs": [],
   "metadata": {}
  },
  {
   "cell_type": "markdown",
   "source": [
    "<img src=\"figures/mekong_infra.png\" style=\"width:800px;\"/>\r\n"
   ],
   "metadata": {}
  },
  {
   "cell_type": "markdown",
   "source": [],
   "metadata": {}
  }
 ],
 "metadata": {
  "interpreter": {
   "hash": "626adb18ef395280b94c241822965e1af678bd821882f03ce31a23086830751b"
  },
  "kernelspec": {
   "name": "python3",
   "display_name": "Python 3.8.10 64-bit ('mapplot': conda)"
  },
  "language_info": {
   "codemirror_mode": {
    "name": "ipython",
    "version": 3
   },
   "file_extension": ".py",
   "mimetype": "text/x-python",
   "name": "python",
   "nbconvert_exporter": "python",
   "pygments_lexer": "ipython3",
   "version": "3.8.10"
  }
 },
 "nbformat": 4,
 "nbformat_minor": 4
}